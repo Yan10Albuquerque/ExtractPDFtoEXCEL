{
 "cells": [
  {
   "cell_type": "code",
   "execution_count": 14,
   "metadata": {},
   "outputs": [
    {
     "name": "stdout",
     "output_type": "stream",
     "text": [
      "Iniciando processamento...\n",
      "Salvando arquivo Excel em: C:\\Users\\Yan\\Downloads\\PDF/tabelas_extraidas.xlsx\n",
      "Arquivo Excel salvo com sucesso.\n"
     ]
    }
   ],
   "source": [
    "from tabula import read_pdf # type: ignore\n",
    "import pandas as pd # type: ignore\n",
    "import os\n",
    "from pathlib import Path\n",
    "import fitz # type: ignore\n",
    "\n",
    "# Caminho para o PDF\n",
    "pasta_arquivo = str(Path.home()/\"Downloads/PDF\")\n",
    "arquivos_pdf = [f for f in os.listdir(pasta_arquivo) if f.endswith('.pdf')]\n",
    "# Abrir o arquivo PDF\n",
    "arquivo_pdf = arquivos_pdf[0]\n",
    "pdf = fitz.open(pasta_arquivo + '/' + arquivo_pdf) \n",
    "# Definir as coordenadas da área a ser eliminada (em pontos: esquerda, baixo, direita, alto)\n",
    "retangulo = fitz.Rect(0, 0, 600, 110)\n",
    "# Iterar sobre todas as páginas ou uma página específica\n",
    "for pagina in pdf:\n",
    "    # Desenhar um retângulo branco para cobrir a área\n",
    "    pagina.draw_rect(retangulo, color=(1, 1, 1), fill=(1, 1, 1))  # Branco (RGB: 1,1,1)\n",
    "# Salvar o PDF com as alterações\n",
    "pdf.save(pasta_arquivo+\"/resultado.pdf\")\n",
    "pdf.close()\n",
    "# Abrir novo pdf\n",
    "arquivo_pdf_novo = pasta_arquivo+\"/resultado.pdf\"\n",
    "arquivo_excel = pasta_arquivo+\"/tabelas_extraidas.xlsx\"\n",
    "dados_unificados = pd.DataFrame()\n",
    "tabelas = read_pdf(arquivo_pdf_novo, pages=\"all\", multiple_tables=True, pandas_options={\"header\": None}, lattice=False)\n",
    "for tabela in tabelas:\n",
    "    tabela.columns = tabela.iloc[0]\n",
    "    tabela = tabela.drop(0)\n",
    "    tabela[['conta', 'digito']] = tabela.iloc[:, 0].str.split('-', expand=True)\n",
    "    tabela = tabela.drop(tabela.columns[0], axis=1)\n",
    "    tabela['id']='1'\n",
    "    nova_ordem = ['Agência', 'conta', 'digito', 'Nome do Funcionário', 'CPF', 'id', 'Líquidos']\n",
    "    tabela = tabela[nova_ordem]\n",
    "    tabela['Líquidos'] = tabela['Líquidos'].str.replace('.', '', regex=False).str.replace(',', '.', regex=False)\n",
    "    tabela['Líquidos'] = pd.to_numeric(tabela['Líquidos'], errors='coerce')\n",
    "    dados_unificados = pd.concat([dados_unificados, tabela], ignore_index=True)\n",
    "   \n",
    "print(\"Iniciando processamento...\")\n",
    "print(\"Salvando arquivo Excel em:\", arquivo_excel)\n",
    "\n",
    "try:\n",
    "    dados_unificados.to_excel(arquivo_excel, index=False)\n",
    "    print(\"Arquivo Excel salvo com sucesso.\")\n",
    "except Exception as e:\n",
    "    print(\"Erro ao salvar o Excel:\", e)\n"
   ]
  }
 ],
 "metadata": {
  "kernelspec": {
   "display_name": "Python 3",
   "language": "python",
   "name": "python3"
  },
  "language_info": {
   "codemirror_mode": {
    "name": "ipython",
    "version": 3
   },
   "file_extension": ".py",
   "mimetype": "text/x-python",
   "name": "python",
   "nbconvert_exporter": "python",
   "pygments_lexer": "ipython3",
   "version": "3.13.0"
  }
 },
 "nbformat": 4,
 "nbformat_minor": 2
}
